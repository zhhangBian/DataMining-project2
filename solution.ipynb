{
 "cells": [
  {
   "cell_type": "code",
   "id": "initial_id",
   "metadata": {
    "collapsed": true,
    "ExecuteTime": {
     "end_time": "2024-05-31T02:25:41.368344Z",
     "start_time": "2024-05-31T02:25:41.346265Z"
    }
   },
   "source": [
    "from gensim.models import Word2Vec\n",
    "\n",
    "\n",
    "def get_most_similar_words(fac_key_words, fac_targets):\n",
    "    # key_words = [[1,2,3,4,5],[1,2,3,4,5]]\n",
    "    # targets = [[6,7,8,9,10]]\n",
    "\n",
    "    result = []\n",
    "    for target in fac_targets:\n",
    "        fac_key_words.append(target)\n",
    "        model = Word2Vec(fac_key_words, min_count=1, workers=4)\n",
    "        similar_words = []\n",
    "        for word in target:\n",
    "            similar_words.append(model.wv.most_similar(word)[0][0])\n",
    "        result.append(similar_words)\n",
    "        fac_key_words.pop(-1)\n",
    "    return result"
   ],
   "outputs": [],
   "execution_count": 94
  },
  {
   "metadata": {
    "ExecuteTime": {
     "end_time": "2024-05-31T02:25:41.477222Z",
     "start_time": "2024-05-31T02:25:41.374136Z"
    }
   },
   "cell_type": "code",
   "source": [
    "import pandas as pd\n",
    "df = pd.read_csv('./data/position_keywords.csv')\n",
    "df.head()\n",
    "\n"
   ],
   "id": "74f4e868881c3e21",
   "outputs": [
    {
     "data": {
      "text/plain": [
       "        position_name                                   job_descriptions  \\\n",
       "0         采购/贸易-采购-买手                                                 []   \n",
       "1      生产制造-技工/普工-折弯工                                                 []   \n",
       "2  医疗健康-其他医疗健康职位-医学编辑                                                 []   \n",
       "3      人力/财务/行政-财务-审计                                                 []   \n",
       "4     供应链/物流-物流-供应链经理  ['该职位负责供应链管理，包括采购流程优化、成本与质量控制、采购计划制定与执行，以及管理供应...   \n",
       "\n",
       "                   job_keywords  \\\n",
       "0     采购策略,时尚趋势,供应商关系,产品采购,时尚行业   \n",
       "1      生产制造,手工技艺,折弯加工,设备操作,质量控制   \n",
       "2  医学专业知识,编辑审校能力,医学出版,学术沟通,内容创作   \n",
       "3      审计流程,财务分析,风险评估,合规检查,报告编制   \n",
       "4    供应链管理,采购流程,成本控制,供应商管理,团队领导   \n",
       "\n",
       "                                  translate_keywords  \n",
       "0  ['procurement strategy', 'fashion trends', 'su...  \n",
       "1  ['manufacturing', 'craftsmanship', 'bending pr...  \n",
       "2  ['medical professional knowledge', 'editing an...  \n",
       "3  ['audit process', 'Financial Analysis', 'risk ...  \n",
       "4  ['Supply Chain Management', 'procurement proce...  "
      ],
      "text/html": [
       "<div>\n",
       "<style scoped>\n",
       "    .dataframe tbody tr th:only-of-type {\n",
       "        vertical-align: middle;\n",
       "    }\n",
       "\n",
       "    .dataframe tbody tr th {\n",
       "        vertical-align: top;\n",
       "    }\n",
       "\n",
       "    .dataframe thead th {\n",
       "        text-align: right;\n",
       "    }\n",
       "</style>\n",
       "<table border=\"1\" class=\"dataframe\">\n",
       "  <thead>\n",
       "    <tr style=\"text-align: right;\">\n",
       "      <th></th>\n",
       "      <th>position_name</th>\n",
       "      <th>job_descriptions</th>\n",
       "      <th>job_keywords</th>\n",
       "      <th>translate_keywords</th>\n",
       "    </tr>\n",
       "  </thead>\n",
       "  <tbody>\n",
       "    <tr>\n",
       "      <th>0</th>\n",
       "      <td>采购/贸易-采购-买手</td>\n",
       "      <td>[]</td>\n",
       "      <td>采购策略,时尚趋势,供应商关系,产品采购,时尚行业</td>\n",
       "      <td>['procurement strategy', 'fashion trends', 'su...</td>\n",
       "    </tr>\n",
       "    <tr>\n",
       "      <th>1</th>\n",
       "      <td>生产制造-技工/普工-折弯工</td>\n",
       "      <td>[]</td>\n",
       "      <td>生产制造,手工技艺,折弯加工,设备操作,质量控制</td>\n",
       "      <td>['manufacturing', 'craftsmanship', 'bending pr...</td>\n",
       "    </tr>\n",
       "    <tr>\n",
       "      <th>2</th>\n",
       "      <td>医疗健康-其他医疗健康职位-医学编辑</td>\n",
       "      <td>[]</td>\n",
       "      <td>医学专业知识,编辑审校能力,医学出版,学术沟通,内容创作</td>\n",
       "      <td>['medical professional knowledge', 'editing an...</td>\n",
       "    </tr>\n",
       "    <tr>\n",
       "      <th>3</th>\n",
       "      <td>人力/财务/行政-财务-审计</td>\n",
       "      <td>[]</td>\n",
       "      <td>审计流程,财务分析,风险评估,合规检查,报告编制</td>\n",
       "      <td>['audit process', 'Financial Analysis', 'risk ...</td>\n",
       "    </tr>\n",
       "    <tr>\n",
       "      <th>4</th>\n",
       "      <td>供应链/物流-物流-供应链经理</td>\n",
       "      <td>['该职位负责供应链管理，包括采购流程优化、成本与质量控制、采购计划制定与执行，以及管理供应...</td>\n",
       "      <td>供应链管理,采购流程,成本控制,供应商管理,团队领导</td>\n",
       "      <td>['Supply Chain Management', 'procurement proce...</td>\n",
       "    </tr>\n",
       "  </tbody>\n",
       "</table>\n",
       "</div>"
      ]
     },
     "execution_count": 95,
     "metadata": {},
     "output_type": "execute_result"
    }
   ],
   "execution_count": 95
  },
  {
   "metadata": {
    "ExecuteTime": {
     "end_time": "2024-05-31T02:25:41.493221Z",
     "start_time": "2024-05-31T02:25:41.479221Z"
    }
   },
   "cell_type": "code",
   "source": [
    "tmp = df.loc[:, ['job_keywords', 'translate_keywords', 'position_name']]\n",
    "tmp.head()"
   ],
   "id": "2af753c3caf5c2a1",
   "outputs": [
    {
     "data": {
      "text/plain": [
       "                   job_keywords  \\\n",
       "0     采购策略,时尚趋势,供应商关系,产品采购,时尚行业   \n",
       "1      生产制造,手工技艺,折弯加工,设备操作,质量控制   \n",
       "2  医学专业知识,编辑审校能力,医学出版,学术沟通,内容创作   \n",
       "3      审计流程,财务分析,风险评估,合规检查,报告编制   \n",
       "4    供应链管理,采购流程,成本控制,供应商管理,团队领导   \n",
       "\n",
       "                                  translate_keywords       position_name  \n",
       "0  ['procurement strategy', 'fashion trends', 'su...         采购/贸易-采购-买手  \n",
       "1  ['manufacturing', 'craftsmanship', 'bending pr...      生产制造-技工/普工-折弯工  \n",
       "2  ['medical professional knowledge', 'editing an...  医疗健康-其他医疗健康职位-医学编辑  \n",
       "3  ['audit process', 'Financial Analysis', 'risk ...      人力/财务/行政-财务-审计  \n",
       "4  ['Supply Chain Management', 'procurement proce...     供应链/物流-物流-供应链经理  "
      ],
      "text/html": [
       "<div>\n",
       "<style scoped>\n",
       "    .dataframe tbody tr th:only-of-type {\n",
       "        vertical-align: middle;\n",
       "    }\n",
       "\n",
       "    .dataframe tbody tr th {\n",
       "        vertical-align: top;\n",
       "    }\n",
       "\n",
       "    .dataframe thead th {\n",
       "        text-align: right;\n",
       "    }\n",
       "</style>\n",
       "<table border=\"1\" class=\"dataframe\">\n",
       "  <thead>\n",
       "    <tr style=\"text-align: right;\">\n",
       "      <th></th>\n",
       "      <th>job_keywords</th>\n",
       "      <th>translate_keywords</th>\n",
       "      <th>position_name</th>\n",
       "    </tr>\n",
       "  </thead>\n",
       "  <tbody>\n",
       "    <tr>\n",
       "      <th>0</th>\n",
       "      <td>采购策略,时尚趋势,供应商关系,产品采购,时尚行业</td>\n",
       "      <td>['procurement strategy', 'fashion trends', 'su...</td>\n",
       "      <td>采购/贸易-采购-买手</td>\n",
       "    </tr>\n",
       "    <tr>\n",
       "      <th>1</th>\n",
       "      <td>生产制造,手工技艺,折弯加工,设备操作,质量控制</td>\n",
       "      <td>['manufacturing', 'craftsmanship', 'bending pr...</td>\n",
       "      <td>生产制造-技工/普工-折弯工</td>\n",
       "    </tr>\n",
       "    <tr>\n",
       "      <th>2</th>\n",
       "      <td>医学专业知识,编辑审校能力,医学出版,学术沟通,内容创作</td>\n",
       "      <td>['medical professional knowledge', 'editing an...</td>\n",
       "      <td>医疗健康-其他医疗健康职位-医学编辑</td>\n",
       "    </tr>\n",
       "    <tr>\n",
       "      <th>3</th>\n",
       "      <td>审计流程,财务分析,风险评估,合规检查,报告编制</td>\n",
       "      <td>['audit process', 'Financial Analysis', 'risk ...</td>\n",
       "      <td>人力/财务/行政-财务-审计</td>\n",
       "    </tr>\n",
       "    <tr>\n",
       "      <th>4</th>\n",
       "      <td>供应链管理,采购流程,成本控制,供应商管理,团队领导</td>\n",
       "      <td>['Supply Chain Management', 'procurement proce...</td>\n",
       "      <td>供应链/物流-物流-供应链经理</td>\n",
       "    </tr>\n",
       "  </tbody>\n",
       "</table>\n",
       "</div>"
      ]
     },
     "execution_count": 96,
     "metadata": {},
     "output_type": "execute_result"
    }
   ],
   "execution_count": 96
  },
  {
   "metadata": {
    "ExecuteTime": {
     "end_time": "2024-05-31T02:25:41.524220Z",
     "start_time": "2024-05-31T02:25:41.495221Z"
    }
   },
   "cell_type": "code",
   "source": [
    "import ast\n",
    "en_ch_reflect = {}\n",
    "en_job_reflect = {}\n",
    "key_words = []\n",
    "for row in tmp.to_dict('records'):\n",
    "    ch = row['job_keywords'].split(',')\n",
    "    en = ast.literal_eval(row['translate_keywords'])\n",
    "    job = row['position_name']\n",
    "    key_words.append(en)\n",
    "    for i in range(len(en)):\n",
    "        en_ch_reflect[en[i]] = ch[i]\n",
    "        if en[i] in en_job_reflect:\n",
    "            en_job_reflect[en[i]].append(job)\n",
    "        else:\n",
    "            en_job_reflect[en[i]] = [job]\n",
    "key_words[0]"
   ],
   "id": "4e867c9139fb3d80",
   "outputs": [
    {
     "data": {
      "text/plain": [
       "['procurement strategy',\n",
       " 'fashion trends',\n",
       " 'supplier relationship',\n",
       " 'product procurement',\n",
       " 'fashion industry']"
      ]
     },
     "execution_count": 97,
     "metadata": {},
     "output_type": "execute_result"
    }
   ],
   "execution_count": 97
  },
  {
   "metadata": {
    "ExecuteTime": {
     "end_time": "2024-05-31T02:25:42.013522Z",
     "start_time": "2024-05-31T02:25:41.525221Z"
    }
   },
   "cell_type": "code",
   "source": [
    "ts_df = pd.read_csv('./data/test_keywords.csv')\n",
    "ts_df.head()"
   ],
   "id": "aa58b3c0bab1d39f",
   "outputs": [
    {
     "data": {
      "text/plain": [
       "   Unnamed: 0  id         job_title  \\\n",
       "0           0   1           软件测试工程师   \n",
       "1           1   2         高级软件测试工程师   \n",
       "2           2   3             开发及测试   \n",
       "3           3   4  双休+软件测试工程师+美资大外企   \n",
       "4           4   5              软件测试   \n",
       "\n",
       "                                     job_description position_name  \\\n",
       "0  职能类别： 软件测试工程师 -武汉 1.掌握产品的版本计划，制定测试计划，测试策略 2.推进...    技术-测试-软件测试   \n",
       "1  岗位职责： 1、参与软件项目的需求分析，关注项目需求的可测性，并能预先评估项目风险； 2、负...    技术-测试-软件测试   \n",
       "2  工作内容： 1.负责软件编程及数据库开发； 2.搭建测试环境，设计并执行测试用例； 3.执行...    技术-测试-软件测试   \n",
       "3  Job TITLE: Software Testing Engineer Function:...    技术-测试-软件测试   \n",
       "4  工作内容： 1、承担项目测试负责人角色，根据实施进度计划编制定测试计划； 2、根据项目招标文...    技术-测试-软件测试   \n",
       "\n",
       "                       job_keywords  \\\n",
       "0     软件测试, 测试计划, 产品质量, 缺陷跟踪, 自动化脚本   \n",
       "1  软件测试,自动化测试,性能测试,需求分析,Linux/Nginx   \n",
       "2   软件编程,数据库开发,测试环境搭建,问题解决跟踪,操作系统熟练   \n",
       "3      软件测试, 测试计划, 缺陷管理, 流程改进, 团队合作   \n",
       "4          软件测试,测试计划,测试用例,场景验证,缺陷管理   \n",
       "\n",
       "                                  translate_keywords  \n",
       "0  ['software testing', 'test plan', 'product qua...  \n",
       "1  ['software testing', 'Automated Testing', 'per...  \n",
       "2  ['software programming', 'Database Development...  \n",
       "3  ['software testing', 'test plan', 'defect mana...  \n",
       "4  ['software testing', 'test plan', 'test case',...  "
      ],
      "text/html": [
       "<div>\n",
       "<style scoped>\n",
       "    .dataframe tbody tr th:only-of-type {\n",
       "        vertical-align: middle;\n",
       "    }\n",
       "\n",
       "    .dataframe tbody tr th {\n",
       "        vertical-align: top;\n",
       "    }\n",
       "\n",
       "    .dataframe thead th {\n",
       "        text-align: right;\n",
       "    }\n",
       "</style>\n",
       "<table border=\"1\" class=\"dataframe\">\n",
       "  <thead>\n",
       "    <tr style=\"text-align: right;\">\n",
       "      <th></th>\n",
       "      <th>Unnamed: 0</th>\n",
       "      <th>id</th>\n",
       "      <th>job_title</th>\n",
       "      <th>job_description</th>\n",
       "      <th>position_name</th>\n",
       "      <th>job_keywords</th>\n",
       "      <th>translate_keywords</th>\n",
       "    </tr>\n",
       "  </thead>\n",
       "  <tbody>\n",
       "    <tr>\n",
       "      <th>0</th>\n",
       "      <td>0</td>\n",
       "      <td>1</td>\n",
       "      <td>软件测试工程师</td>\n",
       "      <td>职能类别： 软件测试工程师 -武汉 1.掌握产品的版本计划，制定测试计划，测试策略 2.推进...</td>\n",
       "      <td>技术-测试-软件测试</td>\n",
       "      <td>软件测试, 测试计划, 产品质量, 缺陷跟踪, 自动化脚本</td>\n",
       "      <td>['software testing', 'test plan', 'product qua...</td>\n",
       "    </tr>\n",
       "    <tr>\n",
       "      <th>1</th>\n",
       "      <td>1</td>\n",
       "      <td>2</td>\n",
       "      <td>高级软件测试工程师</td>\n",
       "      <td>岗位职责： 1、参与软件项目的需求分析，关注项目需求的可测性，并能预先评估项目风险； 2、负...</td>\n",
       "      <td>技术-测试-软件测试</td>\n",
       "      <td>软件测试,自动化测试,性能测试,需求分析,Linux/Nginx</td>\n",
       "      <td>['software testing', 'Automated Testing', 'per...</td>\n",
       "    </tr>\n",
       "    <tr>\n",
       "      <th>2</th>\n",
       "      <td>2</td>\n",
       "      <td>3</td>\n",
       "      <td>开发及测试</td>\n",
       "      <td>工作内容： 1.负责软件编程及数据库开发； 2.搭建测试环境，设计并执行测试用例； 3.执行...</td>\n",
       "      <td>技术-测试-软件测试</td>\n",
       "      <td>软件编程,数据库开发,测试环境搭建,问题解决跟踪,操作系统熟练</td>\n",
       "      <td>['software programming', 'Database Development...</td>\n",
       "    </tr>\n",
       "    <tr>\n",
       "      <th>3</th>\n",
       "      <td>3</td>\n",
       "      <td>4</td>\n",
       "      <td>双休+软件测试工程师+美资大外企</td>\n",
       "      <td>Job TITLE: Software Testing Engineer Function:...</td>\n",
       "      <td>技术-测试-软件测试</td>\n",
       "      <td>软件测试, 测试计划, 缺陷管理, 流程改进, 团队合作</td>\n",
       "      <td>['software testing', 'test plan', 'defect mana...</td>\n",
       "    </tr>\n",
       "    <tr>\n",
       "      <th>4</th>\n",
       "      <td>4</td>\n",
       "      <td>5</td>\n",
       "      <td>软件测试</td>\n",
       "      <td>工作内容： 1、承担项目测试负责人角色，根据实施进度计划编制定测试计划； 2、根据项目招标文...</td>\n",
       "      <td>技术-测试-软件测试</td>\n",
       "      <td>软件测试,测试计划,测试用例,场景验证,缺陷管理</td>\n",
       "      <td>['software testing', 'test plan', 'test case',...</td>\n",
       "    </tr>\n",
       "  </tbody>\n",
       "</table>\n",
       "</div>"
      ]
     },
     "execution_count": 98,
     "metadata": {},
     "output_type": "execute_result"
    }
   ],
   "execution_count": 98
  },
  {
   "metadata": {
    "ExecuteTime": {
     "end_time": "2024-05-31T02:25:42.707726Z",
     "start_time": "2024-05-31T02:25:42.014522Z"
    }
   },
   "cell_type": "code",
   "source": [
    "targets = []\n",
    "for row in ts_df.to_dict('records'):\n",
    "    targets.append(ast.literal_eval(row['translate_keywords']))\n",
    "targets[0]"
   ],
   "id": "ce3f285f1816646b",
   "outputs": [
    {
     "data": {
      "text/plain": [
       "['software testing',\n",
       " 'test plan',\n",
       " 'product quality',\n",
       " 'defect tracking',\n",
       " 'automation script']"
      ]
     },
     "execution_count": 99,
     "metadata": {},
     "output_type": "execute_result"
    }
   ],
   "execution_count": 99
  },
  {
   "metadata": {
    "ExecuteTime": {
     "end_time": "2024-05-31T02:25:50.271271Z",
     "start_time": "2024-05-31T02:25:42.711727Z"
    }
   },
   "cell_type": "code",
   "source": [
    "word_res = get_most_similar_words(key_words, targets)\n",
    "word_res[0]"
   ],
   "id": "44c38fb7ad3ac122",
   "outputs": [
    {
     "data": {
      "text/plain": [
       "['business development and management',\n",
       " 'entertainment content production',\n",
       " 'project budget preparation',\n",
       " 'big data development',\n",
       " 'logistics tracking']"
      ]
     },
     "execution_count": 100,
     "metadata": {},
     "output_type": "execute_result"
    }
   ],
   "execution_count": 100
  },
  {
   "metadata": {
    "ExecuteTime": {
     "end_time": "2024-05-31T02:25:50.303361Z",
     "start_time": "2024-05-31T02:25:50.277270Z"
    }
   },
   "cell_type": "code",
   "source": [
    "res = []\n",
    "for words in word_res:\n",
    "    freq = {}\n",
    "\n",
    "    for word in words:\n",
    "        traces = en_job_reflect[word]\n",
    "        for trace in traces:\n",
    "            if trace not in freq:\n",
    "                freq[trace] = 1\n",
    "            else:\n",
    "                freq[trace] += 1\n",
    "\n",
    "            \n",
    "    max_value = float('-inf')  # 初始化为负无穷大  \n",
    "    max_value_key = None  \n",
    "      \n",
    "    for word, value in freq.items():\n",
    "        if value > max_value:\n",
    "            max_value_key = word\n",
    "            max_value = value\n",
    "    res.append(max_value_key)\n",
    "res      "
   ],
   "id": "8b53b4dacf464d05",
   "outputs": [
    {
     "data": {
      "text/plain": [
       "['销售-房地产销售/招商-物业招商管理',\n",
       " '服务业-美容保健-足疗师',\n",
       " '教育培训-教师-就业老师',\n",
       " '运营-运营-跨境电商运营',\n",
       " '人力/财务/行政-法务-律师',\n",
       " '教育培训-教师-就业老师',\n",
       " '生产制造-技工/普工-空调工',\n",
       " '生产制造-技工/普工-空调工',\n",
       " '教育培训-教师-就业老师',\n",
       " '教育培训-教师-就业老师',\n",
       " '房地产/建筑-装饰装修-装修项目经理',\n",
       " '教育培训-教师-就业老师',\n",
       " '教育培训-教师-就业老师',\n",
       " '生产制造-机械设计/制造-冲压工程师',\n",
       " '医疗健康-医生/医技-检验科医师',\n",
       " '运营-高端运营职位-运营总监',\n",
       " '医疗健康-医生/医技-检验科医师',\n",
       " '运营-运营-跨境电商运营',\n",
       " '教育培训-教师-就业老师',\n",
       " '运营-运营-跨境电商运营',\n",
       " '教育培训-教师-就业老师',\n",
       " '教育培训-教师-就业老师',\n",
       " '房地产/建筑-装饰装修-装修项目经理',\n",
       " '人力/财务/行政-财务-税务',\n",
       " '运营-运营-直播运营',\n",
       " '教育培训-教师-就业老师',\n",
       " '咨询/翻译/法律-咨询/调研-猎头顾问',\n",
       " '运营-运营-直播运营',\n",
       " '房地产/建筑-装饰装修-装修项目经理',\n",
       " '生产制造-技工/普工-空调工',\n",
       " '咨询/翻译/法律-翻译-英语翻译',\n",
       " '教育培训-教师-就业老师',\n",
       " '教育培训-教师-就业老师',\n",
       " '房地产/建筑-工程管理-施工安全员',\n",
       " '教育培训-教师-就业老师',\n",
       " '房地产/建筑-装饰装修-装修项目经理',\n",
       " '房地产/建筑-装饰装修-装修项目经理',\n",
       " '教育培训-教师-就业老师',\n",
       " '教育培训-教师-就业老师',\n",
       " '生产制造-生产营运-厂长',\n",
       " '生产制造-技工/普工-空调工',\n",
       " '人力/财务/行政-法务-律师',\n",
       " '教育培训-教师-就业老师',\n",
       " '医疗健康-医生/医技-检验科医师',\n",
       " '医疗健康-医生/医技-整形医生',\n",
       " '教育培训-教师-就业老师',\n",
       " '房地产/建筑-装饰装修-装修项目经理',\n",
       " '生产制造-技工/普工-空调工',\n",
       " '运营-运营-直播运营',\n",
       " '咨询/翻译/法律-咨询/调研-企业管理咨询',\n",
       " '房地产/建筑-装饰装修-装修项目经理',\n",
       " '教育培训-教师-就业老师',\n",
       " '教育培训-教师-就业老师',\n",
       " '运营-运营-跨境电商运营',\n",
       " '传媒-影视媒体-经纪人/星探',\n",
       " '市场-高端市场职位-市场总监',\n",
       " '咨询/翻译/法律-翻译-英语翻译',\n",
       " '房地产/建筑-装饰装修-装修项目经理',\n",
       " '生产制造-技工/普工-空调工',\n",
       " '传媒-影视媒体-经纪人/星探',\n",
       " '传媒-影视媒体-经纪人/星探',\n",
       " '生产制造-机械设计/制造-冲压工程师',\n",
       " '房地产/建筑-装饰装修-装修项目经理',\n",
       " '设计-游戏设计-游戏界面设计师',\n",
       " '运营-运营-跨境电商运营',\n",
       " '服务业-零售-防损员',\n",
       " '教育培训-教师-就业老师',\n",
       " '传媒-影视媒体-经纪人/星探',\n",
       " '医疗健康-医生/医技-检验科医师',\n",
       " '房地产/建筑-装饰装修-装修项目经理',\n",
       " '传媒-影视媒体-经纪人/星探',\n",
       " '运营-运营-跨境电商运营',\n",
       " '市场-高端市场职位-市场总监',\n",
       " '教育培训-教师-就业老师',\n",
       " '房地产/建筑-装饰装修-装修项目经理',\n",
       " '人力/财务/行政-法务-律师',\n",
       " '咨询/翻译/法律-翻译-英语翻译',\n",
       " '销售-房地产销售/招商-物业招商管理',\n",
       " '房地产/建筑-装饰装修-装修项目经理',\n",
       " '教育培训-教师-就业老师',\n",
       " '教育培训-教师-就业老师',\n",
       " '教育培训-教师-就业老师',\n",
       " '教育培训-教师-就业老师',\n",
       " '咨询/翻译/法律-翻译-英语翻译',\n",
       " '咨询/翻译/法律-律师-专利律师',\n",
       " '人力/财务/行政-法务-律师',\n",
       " '生产制造-技工/普工-空调工',\n",
       " '房地产/建筑-装饰装修-装修项目经理',\n",
       " '生产制造-技工/普工-空调工',\n",
       " '传媒-影视媒体-经纪人/星探',\n",
       " '运营-运营-跨境电商运营',\n",
       " '传媒-影视媒体-影视特效',\n",
       " '服务业-酒店-客房服务员',\n",
       " '运营-运营-跨境电商运营',\n",
       " '传媒-影视媒体-经纪人/星探',\n",
       " '医疗健康-医生/医技-整形医生',\n",
       " '人力/财务/行政-法务-律师',\n",
       " '生产制造-技工/普工-空调工',\n",
       " '生产制造-技工/普工-空调工',\n",
       " '房地产/建筑-装饰装修-装修项目经理']"
      ]
     },
     "execution_count": 101,
     "metadata": {},
     "output_type": "execute_result"
    }
   ],
   "execution_count": 101
  }
 ],
 "metadata": {
  "kernelspec": {
   "display_name": "Python 3",
   "language": "python",
   "name": "python3"
  },
  "language_info": {
   "codemirror_mode": {
    "name": "ipython",
    "version": 2
   },
   "file_extension": ".py",
   "mimetype": "text/x-python",
   "name": "python",
   "nbconvert_exporter": "python",
   "pygments_lexer": "ipython2",
   "version": "2.7.6"
  }
 },
 "nbformat": 4,
 "nbformat_minor": 5
}
